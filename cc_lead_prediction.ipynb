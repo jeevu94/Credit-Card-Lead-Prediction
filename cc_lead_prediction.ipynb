{
 "cells": [
  {
   "cell_type": "markdown",
   "metadata": {},
   "source": [
    "<h1 align=\"center\">Credit Card Lead Prediction</h1>"
   ]
  },
  {
   "cell_type": "markdown",
   "metadata": {},
   "source": [
    "## Problem Statement"
   ]
  },
  {
   "cell_type": "markdown",
   "metadata": {},
   "source": [
    "**Description:** Happy Customer Bank is a mid-sized private bank that deals in all kinds of banking products, like Savings accounts, Current accounts, investment products, credit products, among other offerings.\n",
    "\n",
    "\n",
    "\n",
    "The bank also cross-sells products to its existing customers and to do so they use different kinds of communication like tele-calling, e-mails, recommendations on net banking, mobile banking, etc. \n",
    "\n",
    "\n",
    "\n",
    "In this case, the Happy Customer Bank wants to cross sell its credit cards to its existing customers. The bank has identified a set of customers that are eligible for taking these credit cards.\n",
    "\n",
    "Now, the bank is looking for your help in identifying customers that could show higher intent towards a recommended credit card, given:\n",
    "\n",
    "* Customer details (gender, age, region etc.)\n",
    "* Details of his/her relationship with the bank (Channel_Code,Vintage, 'Avg_Asset_Value etc.)"
   ]
  },
  {
   "cell_type": "markdown",
   "metadata": {},
   "source": [
    "### Data Dictionary"
   ]
  },
  {
   "cell_type": "markdown",
   "metadata": {},
   "source": [
    "<img src=\"data/train_data_dict.PNG\"/>\n",
    "\n",
    "<img src=\"data/test_data_dict.PNG\"/>"
   ]
  },
  {
   "cell_type": "markdown",
   "metadata": {},
   "source": [
    "### Public and Private Split\n",
    "\n",
    "Test data is further divided into Public 30% and Private 70%"
   ]
  },
  {
   "cell_type": "markdown",
   "metadata": {},
   "source": [
    "### Evaluation\n",
    "The evaluation metric for this competition is **roc_auc_score** across all entries in the test set."
   ]
  },
  {
   "cell_type": "code",
   "execution_count": 2,
   "metadata": {},
   "outputs": [],
   "source": [
    "import pandas as pd\n",
    "import numpy as np\n",
    "import matplotlib.pyplot as plt\n",
    "import seaborn as sns\n",
    "import warnings\n",
    "from tqdm import tqdm\n",
    "from sklearn.linear_model import LogisticRegression,SGDClassifier\n",
    "from sklearn.svm import LinearSVC\n",
    "from sklearn.ensemble import StackingClassifier,RandomForestClassifier\n",
    "from xgboost.sklearn import XGBClassifier\n",
    "from sklearn.model_selection import train_test_split\n",
    "from sklearn.preprocessing import OneHotEncoder,StandardScaler,Normalizer\n",
    "from sklearn.calibration import CalibratedClassifierCV\n",
    "from sklearn.model_selection import GridSearchCV\n",
    "from sklearn.naive_bayes import MultinomialNB\n",
    "from sklearn.metrics import roc_auc_score,confusion_matrix\n",
    "from sklearn.ensemble import StackingClassifier\n",
    "from imblearn.over_sampling import SMOTE,RandomOverSampler\n",
    "from sklearn.svm import SVC\n",
    "import tensorflow as tf\n",
    "from scipy.sparse import hstack\n",
    "warnings.filterwarnings(action=\"ignore\")"
   ]
  },
  {
   "cell_type": "code",
   "execution_count": 3,
   "metadata": {},
   "outputs": [
    {
     "data": {
      "text/html": [
       "<div>\n",
       "<style scoped>\n",
       "    .dataframe tbody tr th:only-of-type {\n",
       "        vertical-align: middle;\n",
       "    }\n",
       "\n",
       "    .dataframe tbody tr th {\n",
       "        vertical-align: top;\n",
       "    }\n",
       "\n",
       "    .dataframe thead th {\n",
       "        text-align: right;\n",
       "    }\n",
       "</style>\n",
       "<table border=\"1\" class=\"dataframe\">\n",
       "  <thead>\n",
       "    <tr style=\"text-align: right;\">\n",
       "      <th></th>\n",
       "      <th>ID</th>\n",
       "      <th>Gender</th>\n",
       "      <th>Age</th>\n",
       "      <th>Region_Code</th>\n",
       "      <th>Occupation</th>\n",
       "      <th>Channel_Code</th>\n",
       "      <th>Vintage</th>\n",
       "      <th>Credit_Product</th>\n",
       "      <th>Avg_Account_Balance</th>\n",
       "      <th>Is_Active</th>\n",
       "      <th>Is_Lead</th>\n",
       "    </tr>\n",
       "  </thead>\n",
       "  <tbody>\n",
       "    <tr>\n",
       "      <th>0</th>\n",
       "      <td>NNVBBKZB</td>\n",
       "      <td>Female</td>\n",
       "      <td>73</td>\n",
       "      <td>RG268</td>\n",
       "      <td>Other</td>\n",
       "      <td>X3</td>\n",
       "      <td>43</td>\n",
       "      <td>No</td>\n",
       "      <td>1045696</td>\n",
       "      <td>No</td>\n",
       "      <td>0</td>\n",
       "    </tr>\n",
       "    <tr>\n",
       "      <th>1</th>\n",
       "      <td>IDD62UNG</td>\n",
       "      <td>Female</td>\n",
       "      <td>30</td>\n",
       "      <td>RG277</td>\n",
       "      <td>Salaried</td>\n",
       "      <td>X1</td>\n",
       "      <td>32</td>\n",
       "      <td>No</td>\n",
       "      <td>581988</td>\n",
       "      <td>No</td>\n",
       "      <td>0</td>\n",
       "    </tr>\n",
       "    <tr>\n",
       "      <th>2</th>\n",
       "      <td>HD3DSEMC</td>\n",
       "      <td>Female</td>\n",
       "      <td>56</td>\n",
       "      <td>RG268</td>\n",
       "      <td>Self_Employed</td>\n",
       "      <td>X3</td>\n",
       "      <td>26</td>\n",
       "      <td>No</td>\n",
       "      <td>1484315</td>\n",
       "      <td>Yes</td>\n",
       "      <td>0</td>\n",
       "    </tr>\n",
       "    <tr>\n",
       "      <th>3</th>\n",
       "      <td>BF3NC7KV</td>\n",
       "      <td>Male</td>\n",
       "      <td>34</td>\n",
       "      <td>RG270</td>\n",
       "      <td>Salaried</td>\n",
       "      <td>X1</td>\n",
       "      <td>19</td>\n",
       "      <td>No</td>\n",
       "      <td>470454</td>\n",
       "      <td>No</td>\n",
       "      <td>0</td>\n",
       "    </tr>\n",
       "    <tr>\n",
       "      <th>4</th>\n",
       "      <td>TEASRWXV</td>\n",
       "      <td>Female</td>\n",
       "      <td>30</td>\n",
       "      <td>RG282</td>\n",
       "      <td>Salaried</td>\n",
       "      <td>X1</td>\n",
       "      <td>33</td>\n",
       "      <td>No</td>\n",
       "      <td>886787</td>\n",
       "      <td>No</td>\n",
       "      <td>0</td>\n",
       "    </tr>\n",
       "  </tbody>\n",
       "</table>\n",
       "</div>"
      ],
      "text/plain": [
       "         ID  Gender  Age Region_Code     Occupation Channel_Code  Vintage  \\\n",
       "0  NNVBBKZB  Female   73       RG268          Other           X3       43   \n",
       "1  IDD62UNG  Female   30       RG277       Salaried           X1       32   \n",
       "2  HD3DSEMC  Female   56       RG268  Self_Employed           X3       26   \n",
       "3  BF3NC7KV    Male   34       RG270       Salaried           X1       19   \n",
       "4  TEASRWXV  Female   30       RG282       Salaried           X1       33   \n",
       "\n",
       "  Credit_Product  Avg_Account_Balance Is_Active  Is_Lead  \n",
       "0             No              1045696        No        0  \n",
       "1             No               581988        No        0  \n",
       "2             No              1484315       Yes        0  \n",
       "3             No               470454        No        0  \n",
       "4             No               886787        No        0  "
      ]
     },
     "execution_count": 3,
     "metadata": {},
     "output_type": "execute_result"
    }
   ],
   "source": [
    "#loading training datasets\n",
    "train_df=pd.read_csv(\"data/train_s3TEQDk.csv\")\n",
    "train_df.head()"
   ]
  },
  {
   "cell_type": "code",
   "execution_count": 4,
   "metadata": {},
   "outputs": [
    {
     "name": "stdout",
     "output_type": "stream",
     "text": [
      "List of columns:: ['ID' 'Gender' 'Age' 'Region_Code' 'Occupation' 'Channel_Code' 'Vintage'\n",
      " 'Credit_Product' 'Avg_Account_Balance' 'Is_Active' 'Is_Lead']\n"
     ]
    }
   ],
   "source": [
    "print(\"List of columns::\",train_df.columns.values)"
   ]
  },
  {
   "cell_type": "code",
   "execution_count": 5,
   "metadata": {},
   "outputs": [
    {
     "name": "stdout",
     "output_type": "stream",
     "text": [
      "Number of duplicate rows based on sub groups of columns::  21\n"
     ]
    }
   ],
   "source": [
    "duplicated_rows=sum(train_df.duplicated(subset=['Gender', 'Age', 'Region_Code', 'Occupation', 'Channel_Code',\n",
    "       'Vintage', 'Credit_Product', 'Avg_Account_Balance', 'Is_Active','Is_Lead']))\n",
    "print(\"Number of duplicate rows based on sub groups of columns:: \",duplicated_rows)"
   ]
  },
  {
   "cell_type": "code",
   "execution_count": 6,
   "metadata": {},
   "outputs": [],
   "source": [
    "# Deleting duplicates rows\n",
    "train_df.drop_duplicates(subset=['Gender', 'Age', 'Region_Code', 'Occupation', 'Channel_Code',\n",
    "       'Vintage', 'Credit_Product', 'Avg_Account_Balance', 'Is_Active','Is_Lead'],keep=\"first\",inplace=True)"
   ]
  },
  {
   "cell_type": "code",
   "execution_count": 7,
   "metadata": {},
   "outputs": [
    {
     "name": "stdout",
     "output_type": "stream",
     "text": [
      "<class 'pandas.core.frame.DataFrame'>\n",
      "Int64Index: 245704 entries, 0 to 245724\n",
      "Data columns (total 11 columns):\n",
      " #   Column               Non-Null Count   Dtype \n",
      "---  ------               --------------   ----- \n",
      " 0   ID                   245704 non-null  object\n",
      " 1   Gender               245704 non-null  object\n",
      " 2   Age                  245704 non-null  int64 \n",
      " 3   Region_Code          245704 non-null  object\n",
      " 4   Occupation           245704 non-null  object\n",
      " 5   Channel_Code         245704 non-null  object\n",
      " 6   Vintage              245704 non-null  int64 \n",
      " 7   Credit_Product       216379 non-null  object\n",
      " 8   Avg_Account_Balance  245704 non-null  int64 \n",
      " 9   Is_Active            245704 non-null  object\n",
      " 10  Is_Lead              245704 non-null  int64 \n",
      "dtypes: int64(4), object(7)\n",
      "memory usage: 22.5+ MB\n"
     ]
    }
   ],
   "source": [
    "#  training data infomation\n",
    "train_df.info()"
   ]
  },
  {
   "cell_type": "code",
   "execution_count": 8,
   "metadata": {},
   "outputs": [
    {
     "data": {
      "text/plain": [
       "ID                     0.000000\n",
       "Gender                 0.000000\n",
       "Age                    0.000000\n",
       "Region_Code            0.000000\n",
       "Occupation             0.000000\n",
       "Channel_Code           0.000000\n",
       "Vintage                0.000000\n",
       "Credit_Product         0.119351\n",
       "Avg_Account_Balance    0.000000\n",
       "Is_Active              0.000000\n",
       "Is_Lead                0.000000\n",
       "dtype: float64"
      ]
     },
     "execution_count": 8,
     "metadata": {},
     "output_type": "execute_result"
    }
   ],
   "source": [
    "# Ques: How much data points are missing in every feature(percentage) \n",
    "train_df.isna().sum()/train_df.shape[0]"
   ]
  },
  {
   "cell_type": "markdown",
   "metadata": {},
   "source": [
    "**Observation**\n",
    "* Number of data points in train datasets: 245725\n",
    "* Only credit_product column has missing data points.\n",
    "* Around 12% of data points are missing in Credit Product feature"
   ]
  },
  {
   "cell_type": "markdown",
   "metadata": {},
   "source": [
    "**Ques:** How can we fill this missing this value\n",
    "\n",
    "There are many way to fill Missing value.\n",
    "* most common category\n",
    "* Predict with trained model \n",
    "* With Domain knowledge\n",
    "* Assume NaN as another category\n",
    "\n",
    "\n",
    "\n"
   ]
  },
  {
   "cell_type": "code",
   "execution_count": 9,
   "metadata": {},
   "outputs": [
    {
     "data": {
      "text/html": [
       "<div>\n",
       "<style scoped>\n",
       "    .dataframe tbody tr th:only-of-type {\n",
       "        vertical-align: middle;\n",
       "    }\n",
       "\n",
       "    .dataframe tbody tr th {\n",
       "        vertical-align: top;\n",
       "    }\n",
       "\n",
       "    .dataframe thead th {\n",
       "        text-align: right;\n",
       "    }\n",
       "</style>\n",
       "<table border=\"1\" class=\"dataframe\">\n",
       "  <thead>\n",
       "    <tr style=\"text-align: right;\">\n",
       "      <th></th>\n",
       "      <th>ID</th>\n",
       "      <th>Gender</th>\n",
       "      <th>Age</th>\n",
       "      <th>Region_Code</th>\n",
       "      <th>Occupation</th>\n",
       "      <th>Channel_Code</th>\n",
       "      <th>Vintage</th>\n",
       "      <th>Credit_Product</th>\n",
       "      <th>Avg_Account_Balance</th>\n",
       "      <th>Is_Active</th>\n",
       "      <th>Is_Lead</th>\n",
       "    </tr>\n",
       "  </thead>\n",
       "  <tbody>\n",
       "    <tr>\n",
       "      <th>6</th>\n",
       "      <td>ETQCZFEJ</td>\n",
       "      <td>Male</td>\n",
       "      <td>62</td>\n",
       "      <td>RG282</td>\n",
       "      <td>Other</td>\n",
       "      <td>X3</td>\n",
       "      <td>20</td>\n",
       "      <td>NaN</td>\n",
       "      <td>1056750</td>\n",
       "      <td>Yes</td>\n",
       "      <td>1</td>\n",
       "    </tr>\n",
       "    <tr>\n",
       "      <th>15</th>\n",
       "      <td>UJ2NJKKL</td>\n",
       "      <td>Male</td>\n",
       "      <td>33</td>\n",
       "      <td>RG268</td>\n",
       "      <td>Self_Employed</td>\n",
       "      <td>X2</td>\n",
       "      <td>69</td>\n",
       "      <td>NaN</td>\n",
       "      <td>517063</td>\n",
       "      <td>Yes</td>\n",
       "      <td>1</td>\n",
       "    </tr>\n",
       "    <tr>\n",
       "      <th>31</th>\n",
       "      <td>ABPMK4WU</td>\n",
       "      <td>Female</td>\n",
       "      <td>32</td>\n",
       "      <td>RG279</td>\n",
       "      <td>Salaried</td>\n",
       "      <td>X4</td>\n",
       "      <td>15</td>\n",
       "      <td>NaN</td>\n",
       "      <td>1072850</td>\n",
       "      <td>Yes</td>\n",
       "      <td>1</td>\n",
       "    </tr>\n",
       "    <tr>\n",
       "      <th>36</th>\n",
       "      <td>MTEIXMB9</td>\n",
       "      <td>Female</td>\n",
       "      <td>41</td>\n",
       "      <td>RG268</td>\n",
       "      <td>Self_Employed</td>\n",
       "      <td>X3</td>\n",
       "      <td>62</td>\n",
       "      <td>NaN</td>\n",
       "      <td>962383</td>\n",
       "      <td>No</td>\n",
       "      <td>1</td>\n",
       "    </tr>\n",
       "    <tr>\n",
       "      <th>40</th>\n",
       "      <td>6WX9JDVK</td>\n",
       "      <td>Female</td>\n",
       "      <td>63</td>\n",
       "      <td>RG254</td>\n",
       "      <td>Other</td>\n",
       "      <td>X3</td>\n",
       "      <td>103</td>\n",
       "      <td>NaN</td>\n",
       "      <td>1249319</td>\n",
       "      <td>Yes</td>\n",
       "      <td>1</td>\n",
       "    </tr>\n",
       "  </tbody>\n",
       "</table>\n",
       "</div>"
      ],
      "text/plain": [
       "          ID  Gender  Age Region_Code     Occupation Channel_Code  Vintage  \\\n",
       "6   ETQCZFEJ    Male   62       RG282          Other           X3       20   \n",
       "15  UJ2NJKKL    Male   33       RG268  Self_Employed           X2       69   \n",
       "31  ABPMK4WU  Female   32       RG279       Salaried           X4       15   \n",
       "36  MTEIXMB9  Female   41       RG268  Self_Employed           X3       62   \n",
       "40  6WX9JDVK  Female   63       RG254          Other           X3      103   \n",
       "\n",
       "   Credit_Product  Avg_Account_Balance Is_Active  Is_Lead  \n",
       "6             NaN              1056750       Yes        1  \n",
       "15            NaN               517063       Yes        1  \n",
       "31            NaN              1072850       Yes        1  \n",
       "36            NaN               962383        No        1  \n",
       "40            NaN              1249319       Yes        1  "
      ]
     },
     "execution_count": 9,
     "metadata": {},
     "output_type": "execute_result"
    }
   ],
   "source": [
    "#trying to find pattern how can we fill NaN values\n",
    "train_df[train_df[\"Credit_Product\"].isna()].head()"
   ]
  },
  {
   "cell_type": "code",
   "execution_count": 10,
   "metadata": {},
   "outputs": [
    {
     "data": {
      "text/html": [
       "<div>\n",
       "<style scoped>\n",
       "    .dataframe tbody tr th:only-of-type {\n",
       "        vertical-align: middle;\n",
       "    }\n",
       "\n",
       "    .dataframe tbody tr th {\n",
       "        vertical-align: top;\n",
       "    }\n",
       "\n",
       "    .dataframe thead th {\n",
       "        text-align: right;\n",
       "    }\n",
       "</style>\n",
       "<table border=\"1\" class=\"dataframe\">\n",
       "  <thead>\n",
       "    <tr style=\"text-align: right;\">\n",
       "      <th></th>\n",
       "      <th>ID</th>\n",
       "      <th>Gender</th>\n",
       "      <th>Age</th>\n",
       "      <th>Region_Code</th>\n",
       "      <th>Occupation</th>\n",
       "      <th>Channel_Code</th>\n",
       "      <th>Vintage</th>\n",
       "      <th>Credit_Product</th>\n",
       "      <th>Avg_Account_Balance</th>\n",
       "      <th>Is_Active</th>\n",
       "      <th>Is_Lead</th>\n",
       "    </tr>\n",
       "  </thead>\n",
       "  <tbody>\n",
       "    <tr>\n",
       "      <th>9</th>\n",
       "      <td>NVKTFBA2</td>\n",
       "      <td>Female</td>\n",
       "      <td>55</td>\n",
       "      <td>RG268</td>\n",
       "      <td>Self_Employed</td>\n",
       "      <td>X2</td>\n",
       "      <td>49</td>\n",
       "      <td>Yes</td>\n",
       "      <td>2014239</td>\n",
       "      <td>No</td>\n",
       "      <td>0</td>\n",
       "    </tr>\n",
       "    <tr>\n",
       "      <th>11</th>\n",
       "      <td>GZ5TMYIR</td>\n",
       "      <td>Male</td>\n",
       "      <td>27</td>\n",
       "      <td>RG270</td>\n",
       "      <td>Self_Employed</td>\n",
       "      <td>X1</td>\n",
       "      <td>14</td>\n",
       "      <td>Yes</td>\n",
       "      <td>502787</td>\n",
       "      <td>No</td>\n",
       "      <td>0</td>\n",
       "    </tr>\n",
       "    <tr>\n",
       "      <th>13</th>\n",
       "      <td>KCE7JSFN</td>\n",
       "      <td>Male</td>\n",
       "      <td>31</td>\n",
       "      <td>RG254</td>\n",
       "      <td>Salaried</td>\n",
       "      <td>X1</td>\n",
       "      <td>31</td>\n",
       "      <td>Yes</td>\n",
       "      <td>938754</td>\n",
       "      <td>No</td>\n",
       "      <td>0</td>\n",
       "    </tr>\n",
       "    <tr>\n",
       "      <th>16</th>\n",
       "      <td>CNGSPYWS</td>\n",
       "      <td>Female</td>\n",
       "      <td>46</td>\n",
       "      <td>RG268</td>\n",
       "      <td>Other</td>\n",
       "      <td>X3</td>\n",
       "      <td>97</td>\n",
       "      <td>Yes</td>\n",
       "      <td>2282502</td>\n",
       "      <td>No</td>\n",
       "      <td>1</td>\n",
       "    </tr>\n",
       "    <tr>\n",
       "      <th>17</th>\n",
       "      <td>VH7NBNNQ</td>\n",
       "      <td>Female</td>\n",
       "      <td>59</td>\n",
       "      <td>RG283</td>\n",
       "      <td>Other</td>\n",
       "      <td>X3</td>\n",
       "      <td>15</td>\n",
       "      <td>Yes</td>\n",
       "      <td>2384692</td>\n",
       "      <td>No</td>\n",
       "      <td>1</td>\n",
       "    </tr>\n",
       "  </tbody>\n",
       "</table>\n",
       "</div>"
      ],
      "text/plain": [
       "          ID  Gender  Age Region_Code     Occupation Channel_Code  Vintage  \\\n",
       "9   NVKTFBA2  Female   55       RG268  Self_Employed           X2       49   \n",
       "11  GZ5TMYIR    Male   27       RG270  Self_Employed           X1       14   \n",
       "13  KCE7JSFN    Male   31       RG254       Salaried           X1       31   \n",
       "16  CNGSPYWS  Female   46       RG268          Other           X3       97   \n",
       "17  VH7NBNNQ  Female   59       RG283          Other           X3       15   \n",
       "\n",
       "   Credit_Product  Avg_Account_Balance Is_Active  Is_Lead  \n",
       "9             Yes              2014239        No        0  \n",
       "11            Yes               502787        No        0  \n",
       "13            Yes               938754        No        0  \n",
       "16            Yes              2282502        No        1  \n",
       "17            Yes              2384692        No        1  "
      ]
     },
     "execution_count": 10,
     "metadata": {},
     "output_type": "execute_result"
    }
   ],
   "source": [
    "train_df[train_df['Credit_Product']==\"Yes\"].head()"
   ]
  },
  {
   "cell_type": "code",
   "execution_count": 11,
   "metadata": {},
   "outputs": [
    {
     "data": {
      "text/html": [
       "<div>\n",
       "<style scoped>\n",
       "    .dataframe tbody tr th:only-of-type {\n",
       "        vertical-align: middle;\n",
       "    }\n",
       "\n",
       "    .dataframe tbody tr th {\n",
       "        vertical-align: top;\n",
       "    }\n",
       "\n",
       "    .dataframe thead th {\n",
       "        text-align: right;\n",
       "    }\n",
       "</style>\n",
       "<table border=\"1\" class=\"dataframe\">\n",
       "  <thead>\n",
       "    <tr style=\"text-align: right;\">\n",
       "      <th></th>\n",
       "      <th>ID</th>\n",
       "      <th>Gender</th>\n",
       "      <th>Age</th>\n",
       "      <th>Region_Code</th>\n",
       "      <th>Occupation</th>\n",
       "      <th>Channel_Code</th>\n",
       "      <th>Vintage</th>\n",
       "      <th>Credit_Product</th>\n",
       "      <th>Avg_Account_Balance</th>\n",
       "      <th>Is_Active</th>\n",
       "      <th>Is_Lead</th>\n",
       "    </tr>\n",
       "  </thead>\n",
       "  <tbody>\n",
       "    <tr>\n",
       "      <th>0</th>\n",
       "      <td>NNVBBKZB</td>\n",
       "      <td>Female</td>\n",
       "      <td>73</td>\n",
       "      <td>RG268</td>\n",
       "      <td>Other</td>\n",
       "      <td>X3</td>\n",
       "      <td>43</td>\n",
       "      <td>No</td>\n",
       "      <td>1045696</td>\n",
       "      <td>No</td>\n",
       "      <td>0</td>\n",
       "    </tr>\n",
       "    <tr>\n",
       "      <th>1</th>\n",
       "      <td>IDD62UNG</td>\n",
       "      <td>Female</td>\n",
       "      <td>30</td>\n",
       "      <td>RG277</td>\n",
       "      <td>Salaried</td>\n",
       "      <td>X1</td>\n",
       "      <td>32</td>\n",
       "      <td>No</td>\n",
       "      <td>581988</td>\n",
       "      <td>No</td>\n",
       "      <td>0</td>\n",
       "    </tr>\n",
       "    <tr>\n",
       "      <th>2</th>\n",
       "      <td>HD3DSEMC</td>\n",
       "      <td>Female</td>\n",
       "      <td>56</td>\n",
       "      <td>RG268</td>\n",
       "      <td>Self_Employed</td>\n",
       "      <td>X3</td>\n",
       "      <td>26</td>\n",
       "      <td>No</td>\n",
       "      <td>1484315</td>\n",
       "      <td>Yes</td>\n",
       "      <td>0</td>\n",
       "    </tr>\n",
       "    <tr>\n",
       "      <th>3</th>\n",
       "      <td>BF3NC7KV</td>\n",
       "      <td>Male</td>\n",
       "      <td>34</td>\n",
       "      <td>RG270</td>\n",
       "      <td>Salaried</td>\n",
       "      <td>X1</td>\n",
       "      <td>19</td>\n",
       "      <td>No</td>\n",
       "      <td>470454</td>\n",
       "      <td>No</td>\n",
       "      <td>0</td>\n",
       "    </tr>\n",
       "    <tr>\n",
       "      <th>4</th>\n",
       "      <td>TEASRWXV</td>\n",
       "      <td>Female</td>\n",
       "      <td>30</td>\n",
       "      <td>RG282</td>\n",
       "      <td>Salaried</td>\n",
       "      <td>X1</td>\n",
       "      <td>33</td>\n",
       "      <td>No</td>\n",
       "      <td>886787</td>\n",
       "      <td>No</td>\n",
       "      <td>0</td>\n",
       "    </tr>\n",
       "  </tbody>\n",
       "</table>\n",
       "</div>"
      ],
      "text/plain": [
       "         ID  Gender  Age Region_Code     Occupation Channel_Code  Vintage  \\\n",
       "0  NNVBBKZB  Female   73       RG268          Other           X3       43   \n",
       "1  IDD62UNG  Female   30       RG277       Salaried           X1       32   \n",
       "2  HD3DSEMC  Female   56       RG268  Self_Employed           X3       26   \n",
       "3  BF3NC7KV    Male   34       RG270       Salaried           X1       19   \n",
       "4  TEASRWXV  Female   30       RG282       Salaried           X1       33   \n",
       "\n",
       "  Credit_Product  Avg_Account_Balance Is_Active  Is_Lead  \n",
       "0             No              1045696        No        0  \n",
       "1             No               581988        No        0  \n",
       "2             No              1484315       Yes        0  \n",
       "3             No               470454        No        0  \n",
       "4             No               886787        No        0  "
      ]
     },
     "execution_count": 11,
     "metadata": {},
     "output_type": "execute_result"
    }
   ],
   "source": [
    "train_df[train_df['Credit_Product']==\"No\"].head()"
   ]
  },
  {
   "cell_type": "code",
   "execution_count": 12,
   "metadata": {},
   "outputs": [
    {
     "data": {
      "text/plain": [
       "No     0.667075\n",
       "Yes    0.332925\n",
       "Name: Credit_Product, dtype: float64"
      ]
     },
     "execution_count": 12,
     "metadata": {},
     "output_type": "execute_result"
    }
   ],
   "source": [
    "#Let see value count \n",
    "train_df['Credit_Product'].value_counts(normalize=True)"
   ]
  },
  {
   "cell_type": "markdown",
   "metadata": {},
   "source": [
    "**Observation:**\n",
    "\n",
    "* Above we can see that around 66% of data points have \"No\" as value so we can fill missing value with \"No\"\n",
    "* or we can use some model which will train with other feature as independent variable  and credit product as dependent variable\n",
    "* or we can consider \"NaN\" as category if above idea doesn't work well for training Models"
   ]
  },
  {
   "cell_type": "markdown",
   "metadata": {},
   "source": [
    "## Exploratory Data Analysis [EDA]"
   ]
  },
  {
   "cell_type": "markdown",
   "metadata": {},
   "source": [
    "### Balanced or Imbalanced Dataset\n"
   ]
  },
  {
   "cell_type": "code",
   "execution_count": 13,
   "metadata": {},
   "outputs": [
    {
     "data": {
      "text/plain": [
       "0    0.762771\n",
       "1    0.237229\n",
       "Name: Is_Lead, dtype: float64"
      ]
     },
     "execution_count": 13,
     "metadata": {},
     "output_type": "execute_result"
    }
   ],
   "source": [
    "train_df.Is_Lead.value_counts(normalize=True)"
   ]
  },
  {
   "cell_type": "markdown",
   "metadata": {},
   "source": [
    "**Observation**\n",
    "\n",
    "* It's Imbalanced Dataset so we can try SMOTE technique as Over sampling.\n",
    "* Or we can try class_weight parameter in models\n"
   ]
  },
  {
   "cell_type": "markdown",
   "metadata": {},
   "source": [
    "### Gender Feature Analysis"
   ]
  },
  {
   "cell_type": "code",
   "execution_count": 14,
   "metadata": {},
   "outputs": [
    {
     "name": "stdout",
     "output_type": "stream",
     "text": [
      "55% of Male data present in this dataset.\n",
      "45% of Female data present in this dataset.\n"
     ]
    }
   ],
   "source": [
    "# Gender Feature distribution \n",
    "print(\"{}% of Male data present in this dataset.\".format(round(train_df[\"Gender\"].value_counts(normalize=True)[0]*100)))\n",
    "print(\"{}% of Female data present in this dataset.\".format(round(train_df[\"Gender\"].value_counts(normalize=True)[1]*100)))"
   ]
  },
  {
   "cell_type": "code",
   "execution_count": 15,
   "metadata": {},
   "outputs": [
    {
     "data": {
      "image/png": "[encoded data removed]",
      "text/plain": [
       "<Figure size 576x360 with 1 Axes>"
      ]
     },
     "metadata": {
      "needs_background": "light"
     },
     "output_type": "display_data"
    }
   ],
   "source": [
    "plt.figure(figsize=(8,5))\n",
    "plt.title(\"Not Interested vs Interested data for Male category\")\n",
    "sns.countplot(train_df[\"Gender\"])\n",
    "plt.show()"
   ]
  },
  {
   "cell_type": "code",
   "execution_count": 16,
   "metadata": {},
   "outputs": [
    {
     "data": {
      "image/png": "[encoded data removed]",
      "text/plain": [
       "<Figure size 504x360 with 1 Axes>"
      ]
     },
     "metadata": {
      "needs_background": "light"
     },
     "output_type": "display_data"
    }
   ],
   "source": [
    "plt.figure(figsize=(7,5))\n",
    "plt.title(\"Count distribution of Gender for Interested points\")\n",
    "sns.countplot(x=train_df[\"Gender\"],hue=train_df[\"Is_Lead\"])\n",
    "plt.xticks(rotation=45)\n",
    "plt.show()"
   ]
  },
  {
   "cell_type": "markdown",
   "metadata": {},
   "source": [
    "**Observation**\n",
    "* this dataset has 55% of male and 45% of female data points\n",
    "* Female are less interested than Male "
   ]
  },
  {
   "cell_type": "markdown",
   "metadata": {},
   "source": [
    "### Age Feature Analysis"
   ]
  },
  {
   "cell_type": "code",
   "execution_count": 17,
   "metadata": {},
   "outputs": [
    {
     "data": {
      "image/png": "[encoded data removed]",
      "text/plain": [
       "<Figure size 405.125x360 with 1 Axes>"
      ]
     },
     "metadata": {
      "needs_background": "light"
     },
     "output_type": "display_data"
    }
   ],
   "source": [
    "g=sns.FacetGrid(train_df,height=5,hue=\"Is_Lead\").map(sns.distplot,\"Age\").add_legend()\n",
    "g.fig.suptitle(\"Age Distribution\")\n",
    "plt.show()"
   ]
  },
  {
   "cell_type": "markdown",
   "metadata": {},
   "source": [
    "**Observation:**\n",
    "* Age distribution for \"Not Interested\" and \"Inrerested\" are overlapping.\n",
    "* It seems that who has age less than 35 is more \"not intereseted\" for credit card.\n",
    "* who have age >35 and age < 65 are more \"Interested\" for credit card.\n",
    "* and Age > 65 have almost equal interest for creadit card.\n",
    "* Based on this analogy we can convert this feature into categorical variable.\n",
    "\n",
    "**Convert to category**\n",
    "* based on above analogy, this feature will be converted into category with below strategy.\n",
    "* 0-35='age_grp1',35-42:'age_grp2',42-65:'age_grp3',65-above:'age_grp4'"
   ]
  },
  {
   "cell_type": "markdown",
   "metadata": {},
   "source": [
    "### Avg_Account_Balance Feature Analysis"
   ]
  },
  {
   "cell_type": "code",
   "execution_count": 18,
   "metadata": {},
   "outputs": [
    {
     "data": {
      "image/png": "[encoded data removed]",
      "text/plain": [
       "<Figure size 405.125x360 with 1 Axes>"
      ]
     },
     "metadata": {
      "needs_background": "light"
     },
     "output_type": "display_data"
    }
   ],
   "source": [
    "g=sns.FacetGrid(train_df,height=5,hue=\"Is_Lead\").map(sns.distplot,\"Avg_Account_Balance\").add_legend()\n",
    "g.fig.suptitle(\"Avg_Account_Balance Distribution\")\n",
    "plt.show()"
   ]
  },
  {
   "cell_type": "markdown",
   "metadata": {},
   "source": [
    "**Observation:**\n",
    "* distribution of Avg_Account_Balance for both Is_Lead categories are almost same.\n",
    "* we can see a little pick for \"not interested\" person who belongs between 0.0 and 0.2 range of avg acc balanced(x-axis).\n",
    "* so we will add this feature for training the model and will see it is helping to improve model or not."
   ]
  },
  {
   "cell_type": "markdown",
   "metadata": {},
   "source": [
    "### Vintage Feature Analysis"
   ]
  },
  {
   "cell_type": "code",
   "execution_count": 19,
   "metadata": {},
   "outputs": [
    {
     "data": {
      "image/png": "[encoded data removed]",
      "text/plain": [
       "<Figure size 405.125x360 with 1 Axes>"
      ]
     },
     "metadata": {
      "needs_background": "light"
     },
     "output_type": "display_data"
    }
   ],
   "source": [
    "g=sns.FacetGrid(train_df,height=5,hue=\"Is_Lead\").map(sns.distplot,\"Vintage\").add_legend()\n",
    "g.fig.suptitle(\"Vintage Distribution\")\n",
    "plt.show()"
   ]
  },
  {
   "cell_type": "markdown",
   "metadata": {},
   "source": [
    "**Observation:**\n",
    "* Vintage distribution for \"Not Interested\" and \"Inrerested\" are overlapping.\n",
    "* between vintage >0 and vintage <40 has more probability to \"Not Interested\" for credit card.\n",
    "* between vintage >40 and vintage <60 has bit more probability to \"Not Interested\" for credit card but alomost overlapping.\n",
    "* between vintage >40 and vintage <120 has more probability to \"Interested\" for credit card.\n",
    "* between vintage >120 and above has almost same probabilty for both Is_lead category.\n",
    "* Based on this analogy we can convert this feature into categorical variable.\n",
    "\n",
    "**Convert to category**\n",
    "* based on above analogy, this feature will be converted into category with below strategy.\n",
    "* 0-40='vint_g1',40-60='vint_g2',60-80='vint_g3',80-100='vint_g4',100-120='vint_g5',120-above='vint_g6']"
   ]
  },
  {
   "cell_type": "markdown",
   "metadata": {},
   "source": [
    "### Region_Code feature"
   ]
  },
  {
   "cell_type": "code",
   "execution_count": 20,
   "metadata": {},
   "outputs": [
    {
     "name": "stdout",
     "output_type": "stream",
     "text": [
      "Number of Unique Region_Code : 35\n"
     ]
    }
   ],
   "source": [
    "print(\"Number of Unique Region_Code :\",len(train_df['Region_Code'].unique()))"
   ]
  },
  {
   "cell_type": "code",
   "execution_count": 21,
   "metadata": {},
   "outputs": [
    {
     "data": {
      "image/png": "[encoded data removed]",
      "text/plain": [
       "<Figure size 1080x360 with 1 Axes>"
      ]
     },
     "metadata": {
      "needs_background": "light"
     },
     "output_type": "display_data"
    }
   ],
   "source": [
    "plt.figure(figsize=(15,5))\n",
    "plt.title(\"Count distribution of region code for not Interested points\")\n",
    "sns.countplot(x=train_df[train_df[\"Is_Lead\"]==0][\"Region_Code\"],color='green')\n",
    "plt.xticks(rotation=45)\n",
    "plt.show()"
   ]
  },
  {
   "cell_type": "code",
   "execution_count": 22,
   "metadata": {},
   "outputs": [
    {
     "data": {
      "image/png": "[encoded data removed]",
      "text/plain": [
       "<Figure size 1080x360 with 1 Axes>"
      ]
     },
     "metadata": {
      "needs_background": "light"
     },
     "output_type": "display_data"
    }
   ],
   "source": [
    "plt.figure(figsize=(15,5))\n",
    "plt.title(\"Count distribution of region code for Interested points\")\n",
    "sns.countplot(x=train_df[train_df[\"Is_Lead\"]==1][\"Region_Code\"],color='orange')\n",
    "plt.xticks(rotation=45)\n",
    "plt.show()"
   ]
  },
  {
   "cell_type": "code",
   "execution_count": 23,
   "metadata": {},
   "outputs": [
    {
     "data": {
      "image/png": "[encoded data removed]",
      "text/plain": [
       "<Figure size 1080x360 with 1 Axes>"
      ]
     },
     "metadata": {
      "needs_background": "light"
     },
     "output_type": "display_data"
    }
   ],
   "source": [
    "plt.figure(figsize=(15,5))\n",
    "plt.title(\"Count distribution of region code for Interested points\")\n",
    "sns.countplot(x=train_df[\"Region_Code\"],hue=train_df[\"Is_Lead\"])\n",
    "plt.xticks(rotation=45)\n",
    "plt.show()"
   ]
  },
  {
   "cell_type": "code",
   "execution_count": 24,
   "metadata": {},
   "outputs": [
    {
     "data": {
      "image/png": "[encoded data removed]",
      "text/plain": [
       "<Figure size 432x288 with 1 Axes>"
      ]
     },
     "metadata": {
      "needs_background": "light"
     },
     "output_type": "display_data"
    }
   ],
   "source": [
    "unique_gene_count=train_df['Region_Code'].value_counts(normalize=True,sort=True)\n",
    "plt.plot(unique_gene_count.values,label=\"Histogram of Gene\")\n",
    "plt.title(\"Histogram of Gene\")\n",
    "plt.xlabel(\"index of Gene\")\n",
    "plt.ylabel(\"count ratio\")\n",
    "# plt.xticks([0,50,100,150,200,250])\n",
    "plt.legend()\n",
    "plt.show()"
   ]
  },
  {
   "cell_type": "markdown",
   "metadata": {},
   "source": [
    "**Observation:**\n",
    "* In few region, counts are very high and the number of \"not Interested\" and \"Interested\" counts are also high in those region.\n",
    "* we will convert it into vector using **One Hot Encoding** and  will see how much helpful for models.\n",
    "* And also we can trying by converting into category region group and will see how much helpful for our models."
   ]
  },
  {
   "cell_type": "code",
   "execution_count": 25,
   "metadata": {},
   "outputs": [
    {
     "name": "stdout",
     "output_type": "stream",
     "text": [
      "Tried these category but It does not work well for models\n"
     ]
    }
   ],
   "source": [
    "#Creating reference region group category dictionary\n",
    "ref_reg=train_df[\"Region_Code\"].value_counts()\n",
    "ref_reg_ind=ref_reg.index\n",
    "reg_cat_dict=dict()\n",
    "[reg_cat_dict.update({i:\"reg_cat1\"}) for i in ref_reg_ind[:5]]\n",
    "[reg_cat_dict.update({i:\"reg_cat2\"}) for i in ref_reg_ind[5:15]]\n",
    "[reg_cat_dict.update({i:\"reg_cat3\"}) for i in ref_reg_ind[15:25]]\n",
    "[reg_cat_dict.update({i:\"reg_cat4\"}) for i in ref_reg_ind[25:]]\n",
    "print(\"Tried these category but It does not work well for models\")"
   ]
  },
  {
   "cell_type": "markdown",
   "metadata": {},
   "source": [
    "### Occupation Analysis"
   ]
  },
  {
   "cell_type": "code",
   "execution_count": 26,
   "metadata": {},
   "outputs": [
    {
     "data": {
      "text/plain": [
       "Self_Employed    0.410583\n",
       "Salaried         0.292970\n",
       "Other            0.285592\n",
       "Entrepreneur     0.010855\n",
       "Name: Occupation, dtype: float64"
      ]
     },
     "execution_count": 26,
     "metadata": {},
     "output_type": "execute_result"
    }
   ],
   "source": [
    "train_df.Occupation.value_counts(normalize=True)"
   ]
  },
  {
   "cell_type": "code",
   "execution_count": 27,
   "metadata": {},
   "outputs": [
    {
     "name": "stdout",
     "output_type": "stream",
     "text": [
      "Number of Unique Region_Code : 4\n"
     ]
    }
   ],
   "source": [
    "print(\"Number of Unique Region_Code :\",len(train_df['Occupation'].unique()))"
   ]
  },
  {
   "cell_type": "code",
   "execution_count": 28,
   "metadata": {},
   "outputs": [
    {
     "data": {
      "image/png": "[encoded data removed]",
      "text/plain": [
       "<Figure size 504x360 with 1 Axes>"
      ]
     },
     "metadata": {
      "needs_background": "light"
     },
     "output_type": "display_data"
    }
   ],
   "source": [
    "plt.figure(figsize=(7,5))\n",
    "plt.title(\"Counter Plot of Occupation\")\n",
    "sns.countplot(x=train_df[\"Occupation\"],hue=train_df[\"Is_Lead\"])\n",
    "plt.xticks(rotation=45)\n",
    "plt.show()"
   ]
  },
  {
   "cell_type": "markdown",
   "metadata": {},
   "source": [
    "**Observation**\n",
    "* Entrepreneur are more interested for credit card over not interested Entrepreneur\n",
    "* Other category are more likely to interested for credit card than salaried category"
   ]
  },
  {
   "cell_type": "markdown",
   "metadata": {},
   "source": [
    "### Channel_Code Analysis"
   ]
  },
  {
   "cell_type": "code",
   "execution_count": 29,
   "metadata": {},
   "outputs": [
    {
     "name": "stdout",
     "output_type": "stream",
     "text": [
      "Number of Unique Region_Code : 4\n"
     ]
    }
   ],
   "source": [
    "print(\"Number of Unique Region_Code :\",len(train_df['Channel_Code'].unique()))"
   ]
  },
  {
   "cell_type": "code",
   "execution_count": 30,
   "metadata": {},
   "outputs": [
    {
     "data": {
      "text/plain": [
       "X1    0.422061\n",
       "X3    0.279645\n",
       "X2    0.275628\n",
       "X4    0.022665\n",
       "Name: Channel_Code, dtype: float64"
      ]
     },
     "execution_count": 30,
     "metadata": {},
     "output_type": "execute_result"
    }
   ],
   "source": [
    "train_df.Channel_Code.value_counts(normalize=True)"
   ]
  },
  {
   "cell_type": "code",
   "execution_count": 31,
   "metadata": {},
   "outputs": [
    {
     "data": {
      "image/png": "[encoded data removed]",
      "text/plain": [
       "<Figure size 504x360 with 1 Axes>"
      ]
     },
     "metadata": {
      "needs_background": "light"
     },
     "output_type": "display_data"
    }
   ],
   "source": [
    "plt.figure(figsize=(7,5))\n",
    "plt.title(\"Counter Plot of Channel_Code\")\n",
    "sns.countplot(x=train_df[\"Channel_Code\"],hue=train_df[\"Is_Lead\"])\n",
    "plt.xticks(rotation=45)\n",
    "plt.show()"
   ]
  },
  {
   "cell_type": "markdown",
   "metadata": {},
   "source": [
    "**Observation**\n",
    "* We have very less data points for category X4.It's around 2 % of whole data.\n",
    "* users who belongs to X1 channel are more likely to \"Not interested\" for credit card over \"interested\" X1 Channel\n"
   ]
  },
  {
   "cell_type": "markdown",
   "metadata": {},
   "source": [
    "### Credit_Product analysis"
   ]
  },
  {
   "cell_type": "code",
   "execution_count": 32,
   "metadata": {},
   "outputs": [
    {
     "name": "stdout",
     "output_type": "stream",
     "text": [
      "Number of Unique Region_Code : 3\n"
     ]
    }
   ],
   "source": [
    "print(\"Number of Unique Region_Code :\",len(train_df['Credit_Product'].unique()))"
   ]
  },
  {
   "cell_type": "code",
   "execution_count": 33,
   "metadata": {},
   "outputs": [
    {
     "data": {
      "image/png": "[encoded data removed]",
      "text/plain": [
       "<Figure size 504x360 with 1 Axes>"
      ]
     },
     "metadata": {
      "needs_background": "light"
     },
     "output_type": "display_data"
    }
   ],
   "source": [
    "plt.figure(figsize=(7,5))\n",
    "plt.title(\"Counter Plot of Credit_Product\")\n",
    "sns.countplot(x=train_df[\"Credit_Product\"],hue=train_df[\"Is_Lead\"])\n",
    "plt.xticks(rotation=45)\n",
    "plt.show()"
   ]
  },
  {
   "cell_type": "markdown",
   "metadata": {},
   "source": [
    "**Obsevation:**\n",
    "* There are two categories for credit product (\"Yes\" and \"No\") along with some missing value\n",
    "* so for filling missing data points, we will consider third category which will be NaN.\n",
    "* user who have any active product(like Home Loan) are more likely to \"Interested\" for credit card rather than who have not any active product.\n"
   ]
  },
  {
   "cell_type": "markdown",
   "metadata": {},
   "source": [
    "### Is_Active analysis"
   ]
  },
  {
   "cell_type": "code",
   "execution_count": 34,
   "metadata": {},
   "outputs": [
    {
     "name": "stdout",
     "output_type": "stream",
     "text": [
      "Number of Unique Region_Code : 2\n"
     ]
    }
   ],
   "source": [
    "print(\"Number of Unique Region_Code :\",len(train_df['Is_Active'].unique()))"
   ]
  },
  {
   "cell_type": "code",
   "execution_count": 35,
   "metadata": {},
   "outputs": [
    {
     "data": {
      "image/png": "[encoded data removed]",
      "text/plain": [
       "<Figure size 504x360 with 1 Axes>"
      ]
     },
     "metadata": {
      "needs_background": "light"
     },
     "output_type": "display_data"
    }
   ],
   "source": [
    "plt.figure(figsize=(7,5))\n",
    "plt.title(\"Counter Plot of Is_Active\")\n",
    "sns.countplot(x=train_df[\"Is_Active\"],hue=train_df[\"Is_Lead\"])\n",
    "plt.xticks(rotation=45)\n",
    "plt.show()"
   ]
  },
  {
   "cell_type": "markdown",
   "metadata": {},
   "source": [
    "**Observation:**\n",
    "* user who is active < 3 months are more likely to Interested for credit card rather than who is not active."
   ]
  },
  {
   "cell_type": "markdown",
   "metadata": {},
   "source": [
    "## Preparing Data"
   ]
  },
  {
   "cell_type": "code",
   "execution_count": 36,
   "metadata": {},
   "outputs": [
    {
     "data": {
      "text/plain": [
       "Yes    22690\n",
       "No     10623\n",
       "Name: Credit_Product, dtype: int64"
      ]
     },
     "execution_count": 36,
     "metadata": {},
     "output_type": "execute_result"
    }
   ],
   "source": [
    "train_df[train_df.Is_Lead==1][\"Credit_Product\"].value_counts()"
   ]
  },
  {
   "cell_type": "code",
   "execution_count": 37,
   "metadata": {},
   "outputs": [
    {
     "data": {
      "text/plain": [
       "No     133718\n",
       "Yes     49348\n",
       "Name: Credit_Product, dtype: int64"
      ]
     },
     "execution_count": 37,
     "metadata": {},
     "output_type": "execute_result"
    }
   ],
   "source": [
    "train_df[train_df.Is_Lead==0][\"Credit_Product\"].value_counts()"
   ]
  },
  {
   "cell_type": "markdown",
   "metadata": {},
   "source": [
    "**Note:**\n",
    "* most frequent category of credit_product for not interested people is \"No\"\n",
    "* most frequent category of credit_product for Interested people is \"Yes\"\n",
    "* we can fill data point with this observation but it dooes not work well so I choose \"NaN\" as third category for all missing datapoints\n"
   ]
  },
  {
   "cell_type": "code",
   "execution_count": 38,
   "metadata": {},
   "outputs": [],
   "source": [
    "# Defining function for preprocessing and Feature Engineering \n",
    "def preprocessed_data(data):\n",
    "    #Converted Age into category feature\n",
    "    data[\"Age_group\"]=pd.cut(data.Age,bins=[0,35,45,65,120],labels=['age_grp1','age_grp2','age_grp3','age_grp4'])\n",
    "    #Converted Vintage into category feature\n",
    "    data[\"Vint_group\"]=pd.cut(data.Vintage,bins=[0,40,60,80,100,120,200],labels=['vint_g1','vint_g2','vint_g3','vint_g4','vint_g5','vint_g6'])\n",
    "    #Concating Two feature that may help to imporve model accuracy\n",
    "    data[\"Credit_Product\"]=data[\"Credit_Product\"].fillna(\"Nan\")\n",
    "    data[\"age_vintage\"]=[temp[0]+\"_\"+temp[1] for temp in data[[\"Age_group\",\"Vint_group\"]].values]\n",
    "    data[\"age_credit\"]=[temp[0]+\"_\"+temp[1] for temp in data[[\"Age_group\",\"Credit_Product\"]].values]\n",
    "    data[\"region_credit\"]=[temp[0]+\"_\"+temp[1] for temp in data[[\"Region_Code\",\"Credit_Product\"]].values]\n",
    "    \n",
    "    #dropping Age and Vintage after converted into category features\n",
    "    data.drop(columns=[\"Age\",\"Vintage\"],inplace=True)\n",
    "    return data"
   ]
  },
  {
   "cell_type": "code",
   "execution_count": 39,
   "metadata": {},
   "outputs": [
    {
     "data": {
      "text/html": [
       "<div>\n",
       "<style scoped>\n",
       "    .dataframe tbody tr th:only-of-type {\n",
       "        vertical-align: middle;\n",
       "    }\n",
       "\n",
       "    .dataframe tbody tr th {\n",
       "        vertical-align: top;\n",
       "    }\n",
       "\n",
       "    .dataframe thead th {\n",
       "        text-align: right;\n",
       "    }\n",
       "</style>\n",
       "<table border=\"1\" class=\"dataframe\">\n",
       "  <thead>\n",
       "    <tr style=\"text-align: right;\">\n",
       "      <th></th>\n",
       "      <th>ID</th>\n",
       "      <th>Gender</th>\n",
       "      <th>Region_Code</th>\n",
       "      <th>Occupation</th>\n",
       "      <th>Channel_Code</th>\n",
       "      <th>Credit_Product</th>\n",
       "      <th>Avg_Account_Balance</th>\n",
       "      <th>Is_Active</th>\n",
       "      <th>Is_Lead</th>\n",
       "      <th>Age_group</th>\n",
       "      <th>Vint_group</th>\n",
       "      <th>age_vintage</th>\n",
       "      <th>age_credit</th>\n",
       "      <th>region_credit</th>\n",
       "    </tr>\n",
       "  </thead>\n",
       "  <tbody>\n",
       "    <tr>\n",
       "      <th>0</th>\n",
       "      <td>NNVBBKZB</td>\n",
       "      <td>Female</td>\n",
       "      <td>RG268</td>\n",
       "      <td>Other</td>\n",
       "      <td>X3</td>\n",
       "      <td>No</td>\n",
       "      <td>1045696</td>\n",
       "      <td>No</td>\n",
       "      <td>0</td>\n",
       "      <td>age_grp4</td>\n",
       "      <td>vint_g2</td>\n",
       "      <td>age_grp4_vint_g2</td>\n",
       "      <td>age_grp4_No</td>\n",
       "      <td>RG268_No</td>\n",
       "    </tr>\n",
       "    <tr>\n",
       "      <th>1</th>\n",
       "      <td>IDD62UNG</td>\n",
       "      <td>Female</td>\n",
       "      <td>RG277</td>\n",
       "      <td>Salaried</td>\n",
       "      <td>X1</td>\n",
       "      <td>No</td>\n",
       "      <td>581988</td>\n",
       "      <td>No</td>\n",
       "      <td>0</td>\n",
       "      <td>age_grp1</td>\n",
       "      <td>vint_g1</td>\n",
       "      <td>age_grp1_vint_g1</td>\n",
       "      <td>age_grp1_No</td>\n",
       "      <td>RG277_No</td>\n",
       "    </tr>\n",
       "    <tr>\n",
       "      <th>2</th>\n",
       "      <td>HD3DSEMC</td>\n",
       "      <td>Female</td>\n",
       "      <td>RG268</td>\n",
       "      <td>Self_Employed</td>\n",
       "      <td>X3</td>\n",
       "      <td>No</td>\n",
       "      <td>1484315</td>\n",
       "      <td>Yes</td>\n",
       "      <td>0</td>\n",
       "      <td>age_grp3</td>\n",
       "      <td>vint_g1</td>\n",
       "      <td>age_grp3_vint_g1</td>\n",
       "      <td>age_grp3_No</td>\n",
       "      <td>RG268_No</td>\n",
       "    </tr>\n",
       "    <tr>\n",
       "      <th>3</th>\n",
       "      <td>BF3NC7KV</td>\n",
       "      <td>Male</td>\n",
       "      <td>RG270</td>\n",
       "      <td>Salaried</td>\n",
       "      <td>X1</td>\n",
       "      <td>No</td>\n",
       "      <td>470454</td>\n",
       "      <td>No</td>\n",
       "      <td>0</td>\n",
       "      <td>age_grp1</td>\n",
       "      <td>vint_g1</td>\n",
       "      <td>age_grp1_vint_g1</td>\n",
       "      <td>age_grp1_No</td>\n",
       "      <td>RG270_No</td>\n",
       "    </tr>\n",
       "    <tr>\n",
       "      <th>4</th>\n",
       "      <td>TEASRWXV</td>\n",
       "      <td>Female</td>\n",
       "      <td>RG282</td>\n",
       "      <td>Salaried</td>\n",
       "      <td>X1</td>\n",
       "      <td>No</td>\n",
       "      <td>886787</td>\n",
       "      <td>No</td>\n",
       "      <td>0</td>\n",
       "      <td>age_grp1</td>\n",
       "      <td>vint_g1</td>\n",
       "      <td>age_grp1_vint_g1</td>\n",
       "      <td>age_grp1_No</td>\n",
       "      <td>RG282_No</td>\n",
       "    </tr>\n",
       "  </tbody>\n",
       "</table>\n",
       "</div>"
      ],
      "text/plain": [
       "         ID  Gender Region_Code     Occupation Channel_Code Credit_Product  \\\n",
       "0  NNVBBKZB  Female       RG268          Other           X3             No   \n",
       "1  IDD62UNG  Female       RG277       Salaried           X1             No   \n",
       "2  HD3DSEMC  Female       RG268  Self_Employed           X3             No   \n",
       "3  BF3NC7KV    Male       RG270       Salaried           X1             No   \n",
       "4  TEASRWXV  Female       RG282       Salaried           X1             No   \n",
       "\n",
       "   Avg_Account_Balance Is_Active  Is_Lead Age_group Vint_group  \\\n",
       "0              1045696        No        0  age_grp4    vint_g2   \n",
       "1               581988        No        0  age_grp1    vint_g1   \n",
       "2              1484315       Yes        0  age_grp3    vint_g1   \n",
       "3               470454        No        0  age_grp1    vint_g1   \n",
       "4               886787        No        0  age_grp1    vint_g1   \n",
       "\n",
       "        age_vintage   age_credit region_credit  \n",
       "0  age_grp4_vint_g2  age_grp4_No      RG268_No  \n",
       "1  age_grp1_vint_g1  age_grp1_No      RG277_No  \n",
       "2  age_grp3_vint_g1  age_grp3_No      RG268_No  \n",
       "3  age_grp1_vint_g1  age_grp1_No      RG270_No  \n",
       "4  age_grp1_vint_g1  age_grp1_No      RG282_No  "
      ]
     },
     "execution_count": 39,
     "metadata": {},
     "output_type": "execute_result"
    }
   ],
   "source": [
    "#Preprocessing training data\n",
    "train_df=preprocessed_data(train_df)\n",
    "train_df.head()"
   ]
  },
  {
   "cell_type": "code",
   "execution_count": 40,
   "metadata": {},
   "outputs": [
    {
     "name": "stdout",
     "output_type": "stream",
     "text": [
      "<class 'pandas.core.frame.DataFrame'>\n",
      "Int64Index: 245704 entries, 0 to 245724\n",
      "Data columns (total 14 columns):\n",
      " #   Column               Non-Null Count   Dtype   \n",
      "---  ------               --------------   -----   \n",
      " 0   ID                   245704 non-null  object  \n",
      " 1   Gender               245704 non-null  object  \n",
      " 2   Region_Code          245704 non-null  object  \n",
      " 3   Occupation           245704 non-null  object  \n",
      " 4   Channel_Code         245704 non-null  object  \n",
      " 5   Credit_Product       245704 non-null  object  \n",
      " 6   Avg_Account_Balance  245704 non-null  int64   \n",
      " 7   Is_Active            245704 non-null  object  \n",
      " 8   Is_Lead              245704 non-null  int64   \n",
      " 9   Age_group            245704 non-null  category\n",
      " 10  Vint_group           245704 non-null  category\n",
      " 11  age_vintage          245704 non-null  object  \n",
      " 12  age_credit           245704 non-null  object  \n",
      " 13  region_credit        245704 non-null  object  \n",
      "dtypes: category(2), int64(2), object(10)\n",
      "memory usage: 32.9+ MB\n"
     ]
    }
   ],
   "source": [
    "train_df.info()"
   ]
  },
  {
   "cell_type": "code",
   "execution_count": 41,
   "metadata": {},
   "outputs": [],
   "source": [
    "X=train_df.drop(columns=[\"Is_Lead\",\"ID\"])\n",
    "y=train_df.Is_Lead.values"
   ]
  },
  {
   "cell_type": "code",
   "execution_count": null,
   "metadata": {},
   "outputs": [],
   "source": []
  },
  {
   "cell_type": "markdown",
   "metadata": {},
   "source": [
    "### Split into Train and CV data"
   ]
  },
  {
   "cell_type": "code",
   "execution_count": 42,
   "metadata": {},
   "outputs": [],
   "source": [
    "X_train, X_test, y_train, y_test = train_test_split(X, y, test_size=0.25,stratify=y,random_state=8)"
   ]
  },
  {
   "cell_type": "code",
   "execution_count": 43,
   "metadata": {},
   "outputs": [],
   "source": [
    "# X_train=X\n",
    "# y_train=y"
   ]
  },
  {
   "cell_type": "code",
   "execution_count": 44,
   "metadata": {},
   "outputs": [],
   "source": [
    "#Creating List of columns of all category features\n",
    "category_var=list(X_train.select_dtypes(include=[\"object\",\"category\"]).columns.values)"
   ]
  },
  {
   "cell_type": "code",
   "execution_count": 45,
   "metadata": {},
   "outputs": [
    {
     "data": {
      "text/plain": [
       "Normalizer()"
      ]
     },
     "execution_count": 45,
     "metadata": {},
     "output_type": "execute_result"
    }
   ],
   "source": [
    "#Fitting Encoder and Normalizer so that we can use it to transform train, cv and test data \n",
    "encoder=OneHotEncoder(drop=\"first\")\n",
    "encoder.fit(X_train[category_var])\n",
    "#Normalizer fitting\n",
    "# we can also  use StandardScaler here\n",
    "norm=Normalizer()\n",
    "norm.fit(X_train[\"Avg_Account_Balance\"].values.reshape(-1,1))\n"
   ]
  },
  {
   "cell_type": "code",
   "execution_count": 46,
   "metadata": {},
   "outputs": [],
   "source": [
    "## Making list of All features\n",
    "features_name=list(encoder.get_feature_names())\n",
    "features_name.append(\"Avg_Account_Balance\")"
   ]
  },
  {
   "cell_type": "code",
   "execution_count": 47,
   "metadata": {},
   "outputs": [],
   "source": [
    "# create a function to convert cotegory data to vector and Normalized the continuous variables\n",
    "def encode_dataset(data):\n",
    "    category_data=encoder.transform(data[category_var])\n",
    "    numeric_norm=norm.transform(data[\"Avg_Account_Balance\"].values.reshape(-1,1))\n",
    "    # concating category data and Numerical feature\n",
    "    data=hstack((category_data,numeric_norm))\n",
    "    print(\"data shape: \",data.shape)\n",
    "    return data\n"
   ]
  },
  {
   "cell_type": "code",
   "execution_count": 48,
   "metadata": {},
   "outputs": [
    {
     "name": "stdout",
     "output_type": "stream",
     "text": [
      "data shape:  (184278, 189)\n",
      "data shape:  (61426, 189)\n"
     ]
    }
   ],
   "source": [
    "X_train=encode_dataset(X_train)\n",
    "X_test=encode_dataset(X_test)"
   ]
  },
  {
   "cell_type": "code",
   "execution_count": 49,
   "metadata": {},
   "outputs": [
    {
     "name": "stdout",
     "output_type": "stream",
     "text": [
      "X_train shape: (184278, 189)\n",
      "X_test shape: (61426, 189)\n"
     ]
    }
   ],
   "source": [
    "print(\"X_train shape:\",X_train.shape)\n",
    "print(\"X_test shape:\",X_test.shape)"
   ]
  },
  {
   "cell_type": "code",
   "execution_count": 50,
   "metadata": {},
   "outputs": [],
   "source": [
    "#define a function which helps to preprocess ,feature engineering and encode into vectors\n",
    "def preprocess_and_encode_test_data(data):\n",
    "    data=preprocessed_data(data)\n",
    "    data=encode_dataset(data)\n",
    "    return data"
   ]
  },
  {
   "cell_type": "markdown",
   "metadata": {},
   "source": [
    "## Model Training"
   ]
  },
  {
   "cell_type": "markdown",
   "metadata": {},
   "source": [
    "### Random Forest Classifier"
   ]
  },
  {
   "cell_type": "code",
   "execution_count": 51,
   "metadata": {},
   "outputs": [
    {
     "name": "stdout",
     "output_type": "stream",
     "text": [
      "Fitting 5 folds for each of 4 candidates, totalling 20 fits\n"
     ]
    },
    {
     "data": {
      "text/plain": [
       "GridSearchCV(estimator=RandomForestClassifier(class_weight='balanced',\n",
       "                                              max_depth=10, n_jobs=-1),\n",
       "             param_grid={'n_estimators': [100, 120, 150, 200]},\n",
       "             scoring='roc_auc', verbose=1)"
      ]
     },
     "execution_count": 51,
     "metadata": {},
     "output_type": "execute_result"
    }
   ],
   "source": [
    "#Hyper parameter tunning to RandomForestClassifier\n",
    "param={\"n_estimators\":[100,120,150,200]}\n",
    "model=RandomForestClassifier(class_weight=\"balanced\",max_depth=10,n_jobs=-1)\n",
    "# model.fit(X_train,y_train)\n",
    "clf=GridSearchCV(estimator=model,param_grid=param,scoring=\"roc_auc\",verbose=1)\n",
    "clf.fit(X_train,y_train)\n"
   ]
  },
  {
   "cell_type": "code",
   "execution_count": 52,
   "metadata": {},
   "outputs": [
    {
     "name": "stdout",
     "output_type": "stream",
     "text": [
      "Tunned Parameter of RF: {'n_estimators': 150}\n"
     ]
    },
    {
     "data": {
      "text/plain": [
       "RandomForestClassifier(class_weight='balanced', max_depth=10, n_estimators=150,\n",
       "                       n_jobs=-1)"
      ]
     },
     "execution_count": 52,
     "metadata": {},
     "output_type": "execute_result"
    }
   ],
   "source": [
    "rf_param=clf.best_params_\n",
    "print(\"Tunned Parameter of RF:\",rf_param)\n",
    "model=RandomForestClassifier(max_depth=10\n",
    "                   ,n_estimators=rf_param[\"n_estimators\"],class_weight=\"balanced\",n_jobs=-1)\n",
    "model.fit(X_train,y_train)\n"
   ]
  },
  {
   "cell_type": "markdown",
   "metadata": {},
   "source": [
    "#### Top 50 Feature (Featuere_Important) "
   ]
  },
  {
   "cell_type": "code",
   "execution_count": 53,
   "metadata": {},
   "outputs": [],
   "source": [
    "## Selecting Top 50 Features\n",
    "no_of_features=50\n",
    "features_dict=dict(zip(features_name,model.feature_importances_))\n",
    "features_dict=sorted(features_dict.items(), key=lambda x: x[1], reverse=True)\n",
    "def get_important_feature(top=10):\n",
    "    features=[feat[0] for feat in features_dict[:top]]\n",
    "    return features\n",
    "important_feature=get_important_feature(no_of_features)\n",
    "important_feature_index=[features_name.index(item) for item in important_feature]"
   ]
  },
  {
   "cell_type": "code",
   "execution_count": 54,
   "metadata": {},
   "outputs": [
    {
     "name": "stdout",
     "output_type": "stream",
     "text": [
      "########## Top Features ##########\n",
      "['x4_No', 'x9_age_grp1_No', 'x9_age_grp3_Nan', 'x6_age_grp3', 'x7_vint_g4', 'x9_age_grp3_No', 'x9_age_grp2_Nan', 'x4_Yes', 'x3_X3', 'x8_age_grp3_vint_g4', 'x10_RG268_Nan', 'x9_age_grp3_Yes', 'x2_Salaried', 'x9_age_grp4_Nan', 'x3_X2', 'x9_age_grp2_No', 'x9_age_grp1_Yes', 'x10_RG283_Nan', 'x5_Yes', 'x10_RG268_No', 'x6_age_grp2', 'x9_age_grp2_Yes', 'x10_RG284_Nan', 'x10_RG283_No', 'x10_RG254_Nan', 'x10_RG254_No', 'x7_vint_g3', 'x9_age_grp4_No', 'x2_Self_Employed', 'x8_age_grp3_vint_g5', 'x8_age_grp2_vint_g1', 'x7_vint_g2', 'x8_age_grp3_vint_g3', 'x8_age_grp4_vint_g4', 'x6_age_grp4', 'x10_RG284_No', 'x10_RG280_Nan', 'x8_age_grp3_vint_g2', 'x8_age_grp3_vint_g1', 'x0_Male', 'x7_vint_g5', 'x8_age_grp2_vint_g4', 'x2_Other', 'x10_RG277_Nan', 'x1_RG268', 'x10_RG268_Yes', 'x10_RG277_No', 'x10_RG280_No', 'x8_age_grp2_vint_g3', 'x9_age_grp4_Yes']\n"
     ]
    }
   ],
   "source": [
    "print(\"#\"*10,\"Top Features\",\"#\"*10)\n",
    "print(important_feature)"
   ]
  },
  {
   "cell_type": "code",
   "execution_count": 55,
   "metadata": {},
   "outputs": [],
   "source": [
    "#Extracting top 50 features\n",
    "def extract_important_features(data):\n",
    "    return data.tocsr()[:,important_feature_index]\n",
    "X_train_imp=extract_important_features(X_train)\n",
    "X_test_imp=extract_important_features(X_test)"
   ]
  },
  {
   "cell_type": "markdown",
   "metadata": {},
   "source": [
    "#### 1. RandomForestClassifier on all data"
   ]
  },
  {
   "cell_type": "code",
   "execution_count": 56,
   "metadata": {},
   "outputs": [
    {
     "data": {
      "text/plain": [
       "RandomForestClassifier(class_weight='balanced', max_depth=10, n_estimators=150,\n",
       "                       n_jobs=-1)"
      ]
     },
     "execution_count": 56,
     "metadata": {},
     "output_type": "execute_result"
    }
   ],
   "source": [
    "model=RandomForestClassifier(max_depth=10\n",
    "                   ,n_estimators=rf_param[\"n_estimators\"],class_weight=\"balanced\",n_jobs=-1)\n",
    "model.fit(X_train,y_train)"
   ]
  },
  {
   "cell_type": "code",
   "execution_count": 57,
   "metadata": {},
   "outputs": [
    {
     "name": "stdout",
     "output_type": "stream",
     "text": [
      "Train AUC: 0.8659737803098613\n"
     ]
    }
   ],
   "source": [
    "#AUC on training data\n",
    "pred=model.predict_proba(X_train)\n",
    "auc=roc_auc_score(y_train,pred[:, 1])\n",
    "print(\"Train AUC:\",auc)"
   ]
  },
  {
   "cell_type": "code",
   "execution_count": 58,
   "metadata": {},
   "outputs": [
    {
     "name": "stdout",
     "output_type": "stream",
     "text": [
      "Test AUC: 0.8664393102039625\n"
     ]
    }
   ],
   "source": [
    "#AUC on cross validation data\n",
    "pred=model.predict_proba(X_test)\n",
    "auc=roc_auc_score(y_test,pred[:, 1])\n",
    "print(\"Test AUC:\",auc)"
   ]
  },
  {
   "cell_type": "markdown",
   "metadata": {},
   "source": [
    "#### 2. RandomForestClassifier on Top 50 features"
   ]
  },
  {
   "cell_type": "code",
   "execution_count": 59,
   "metadata": {},
   "outputs": [
    {
     "data": {
      "text/plain": [
       "RandomForestClassifier(class_weight='balanced', max_depth=10, n_estimators=150,\n",
       "                       n_jobs=-1)"
      ]
     },
     "execution_count": 59,
     "metadata": {},
     "output_type": "execute_result"
    }
   ],
   "source": [
    "model=RandomForestClassifier(max_depth=10\n",
    "                   ,n_estimators=rf_param[\"n_estimators\"],class_weight=\"balanced\",n_jobs=-1)\n",
    "model.fit(X_train_imp,y_train)"
   ]
  },
  {
   "cell_type": "code",
   "execution_count": 60,
   "metadata": {},
   "outputs": [
    {
     "name": "stdout",
     "output_type": "stream",
     "text": [
      "Train AUC: 0.8708094403670058\n"
     ]
    }
   ],
   "source": [
    "#AUC on training data\n",
    "pred=model.predict_proba(X_train_imp)\n",
    "auc=roc_auc_score(y_train,pred[:, 1])\n",
    "print(\"Train AUC:\",auc)"
   ]
  },
  {
   "cell_type": "code",
   "execution_count": 61,
   "metadata": {},
   "outputs": [
    {
     "name": "stdout",
     "output_type": "stream",
     "text": [
      "Test AUC: 0.8709047009451487\n"
     ]
    }
   ],
   "source": [
    "#AUC on cross validation data\n",
    "pred=model.predict_proba(X_test_imp)\n",
    "auc=roc_auc_score(y_test,pred[:, 1])\n",
    "print(\"Test AUC:\",auc)"
   ]
  },
  {
   "cell_type": "code",
   "execution_count": null,
   "metadata": {},
   "outputs": [],
   "source": []
  },
  {
   "cell_type": "markdown",
   "metadata": {},
   "source": [
    "### SGDClassifier"
   ]
  },
  {
   "cell_type": "code",
   "execution_count": 62,
   "metadata": {},
   "outputs": [
    {
     "name": "stdout",
     "output_type": "stream",
     "text": [
      "Fitting 5 folds for each of 12 candidates, totalling 60 fits\n"
     ]
    },
    {
     "data": {
      "text/plain": [
       "GridSearchCV(estimator=SGDClassifier(class_weight='balanced', loss='log'),\n",
       "             param_grid={'alpha': [0.0001, 0.001, 0.01, 0.1],\n",
       "                         'penalty': ['l2', 'l1', 'elasticnet']},\n",
       "             scoring='roc_auc', verbose=1)"
      ]
     },
     "execution_count": 62,
     "metadata": {},
     "output_type": "execute_result"
    }
   ],
   "source": [
    "alpha=[10**i for i in range(-4,0)]\n",
    "param={\"alpha\":alpha,\"penalty\":['l2', 'l1', 'elasticnet']}\n",
    "model=SGDClassifier(loss=\"log\",class_weight=\"balanced\",learning_rate=\"optimal\")\n",
    "#     model.fit(X_train,y_train)\n",
    "clf=GridSearchCV(estimator=model,param_grid=param,scoring=\"roc_auc\",verbose=1)\n",
    "clf.fit(X_train,y_train)"
   ]
  },
  {
   "cell_type": "code",
   "execution_count": 63,
   "metadata": {},
   "outputs": [
    {
     "data": {
      "text/plain": [
       "{'alpha': 0.001, 'penalty': 'l2'}"
      ]
     },
     "execution_count": 63,
     "metadata": {},
     "output_type": "execute_result"
    }
   ],
   "source": [
    "sgd_param=clf.best_params_\n",
    "sgd_param\n"
   ]
  },
  {
   "cell_type": "markdown",
   "metadata": {},
   "source": [
    "#### 1. SGDClassifier on All features"
   ]
  },
  {
   "cell_type": "code",
   "execution_count": 64,
   "metadata": {},
   "outputs": [
    {
     "data": {
      "text/plain": [
       "SGDClassifier(alpha=0.001, class_weight='balanced', loss='log')"
      ]
     },
     "execution_count": 64,
     "metadata": {},
     "output_type": "execute_result"
    }
   ],
   "source": [
    "model=SGDClassifier(loss=\"log\",class_weight=\"balanced\",learning_rate=\"optimal\",alpha=sgd_param[\"alpha\"],penalty=sgd_param[\"penalty\"])\n",
    "model.fit(X_train,y_train)"
   ]
  },
  {
   "cell_type": "code",
   "execution_count": 65,
   "metadata": {},
   "outputs": [
    {
     "name": "stdout",
     "output_type": "stream",
     "text": [
      "Train AUC: 0.8645218412206594\n"
     ]
    }
   ],
   "source": [
    "#AUC on training data\n",
    "pred=model.predict_proba(X_train)\n",
    "auc=roc_auc_score(y_train,pred[:, 1])\n",
    "print(\"Train AUC:\",auc)"
   ]
  },
  {
   "cell_type": "code",
   "execution_count": 66,
   "metadata": {},
   "outputs": [
    {
     "name": "stdout",
     "output_type": "stream",
     "text": [
      "Test AUC: 0.8674847268533024\n"
     ]
    }
   ],
   "source": [
    "#AUC on cross validation data\n",
    "pred=model.predict_proba(X_test)\n",
    "auc=roc_auc_score(y_test,pred[:, 1])\n",
    "print(\"Test AUC:\",auc)"
   ]
  },
  {
   "cell_type": "markdown",
   "metadata": {},
   "source": [
    "#### 2. SGDClassifier on Top 50 features"
   ]
  },
  {
   "cell_type": "code",
   "execution_count": 67,
   "metadata": {},
   "outputs": [
    {
     "data": {
      "text/plain": [
       "SGDClassifier(alpha=0.001, class_weight='balanced', loss='log')"
      ]
     },
     "execution_count": 67,
     "metadata": {},
     "output_type": "execute_result"
    }
   ],
   "source": [
    "model=SGDClassifier(loss=\"log\",class_weight=\"balanced\",learning_rate=\"optimal\",alpha=sgd_param[\"alpha\"],penalty=sgd_param[\"penalty\"])\n",
    "model.fit(X_train_imp,y_train)"
   ]
  },
  {
   "cell_type": "code",
   "execution_count": 68,
   "metadata": {},
   "outputs": [
    {
     "name": "stdout",
     "output_type": "stream",
     "text": [
      "Train AUC: 0.8629184442762036\n"
     ]
    }
   ],
   "source": [
    "#AUC on training data\n",
    "pred=model.predict_proba(X_train_imp)\n",
    "auc=roc_auc_score(y_train,pred[:, 1])\n",
    "print(\"Train AUC:\",auc)"
   ]
  },
  {
   "cell_type": "code",
   "execution_count": 69,
   "metadata": {},
   "outputs": [
    {
     "name": "stdout",
     "output_type": "stream",
     "text": [
      "Test AUC: 0.8659755233259679\n"
     ]
    }
   ],
   "source": [
    "#AUC on cross validation data\n",
    "pred=model.predict_proba(X_test_imp)\n",
    "auc=roc_auc_score(y_test,pred[:, 1])\n",
    "print(\"Test AUC:\",auc)"
   ]
  },
  {
   "cell_type": "markdown",
   "metadata": {},
   "source": [
    "### XGBOOST Classifier"
   ]
  },
  {
   "cell_type": "code",
   "execution_count": 70,
   "metadata": {},
   "outputs": [
    {
     "name": "stdout",
     "output_type": "stream",
     "text": [
      "Fitting 5 folds for each of 6 candidates, totalling 30 fits\n"
     ]
    },
    {
     "data": {
      "text/plain": [
       "GridSearchCV(estimator=XGBClassifier(base_score=None, booster=None,\n",
       "                                     colsample_bylevel=None,\n",
       "                                     colsample_bynode=None,\n",
       "                                     colsample_bytree=None,\n",
       "                                     enable_categorical=False,\n",
       "                                     eval_metric='logloss', gamma=None,\n",
       "                                     gpu_id=None, importance_type=None,\n",
       "                                     interaction_constraints=None,\n",
       "                                     learning_rate=0.1, max_delta_step=None,\n",
       "                                     max_depth=5, min_child_weight=None,\n",
       "                                     missing=nan, monotone_constraints=None,\n",
       "                                     n_estimators=100, n_jobs=None,\n",
       "                                     num_parallel_tree=None, predictor=None,\n",
       "                                     random_state=None, reg_alpha=None,\n",
       "                                     reg_lambda=None, scale_pos_weight=3,\n",
       "                                     subsample=None, tree_method=None,\n",
       "                                     validate_parameters=None, verbosity=None),\n",
       "             param_grid={'n_estimators': [100, 120, 150],\n",
       "                         'reg_lambda': [0.1, 0.05]},\n",
       "             scoring='roc_auc', verbose=1)"
      ]
     },
     "execution_count": 70,
     "metadata": {},
     "output_type": "execute_result"
    }
   ],
   "source": [
    "#Hyper Tunning for XGBoostClassifier\n",
    "param={\"n_estimators\":[100,120,150],\"reg_lambda\":[0.1,0.05]}\n",
    "model=XGBClassifier(scale_pos_weight=3,eval_metric=\"logloss\",learning_rate=0.1,max_depth=5)\n",
    "\n",
    "clf=GridSearchCV(estimator=model,param_grid=param,scoring=\"roc_auc\",verbose=1)\n",
    "clf.fit(X_train_imp,y_train)\n"
   ]
  },
  {
   "cell_type": "code",
   "execution_count": 71,
   "metadata": {},
   "outputs": [
    {
     "data": {
      "text/plain": [
       "{'n_estimators': 100, 'reg_lambda': 0.1}"
      ]
     },
     "execution_count": 71,
     "metadata": {},
     "output_type": "execute_result"
    }
   ],
   "source": [
    "xgb_param=clf.best_params_\n",
    "xgb_param"
   ]
  },
  {
   "cell_type": "markdown",
   "metadata": {},
   "source": [
    "#### 1. XGBClassifier on all Features"
   ]
  },
  {
   "cell_type": "code",
   "execution_count": 72,
   "metadata": {},
   "outputs": [
    {
     "data": {
      "text/plain": [
       "XGBClassifier(base_score=0.5, booster='gbtree', colsample_bylevel=1,\n",
       "              colsample_bynode=1, colsample_bytree=1, enable_categorical=False,\n",
       "              eval_metric='logloss', gamma=0, gpu_id=-1, importance_type=None,\n",
       "              interaction_constraints='', learning_rate=0.1, max_delta_step=0,\n",
       "              max_depth=5, min_child_weight=1, missing=nan,\n",
       "              monotone_constraints='()', n_estimators=100, n_jobs=12,\n",
       "              num_parallel_tree=1, predictor='auto', random_state=0,\n",
       "              reg_alpha=0, reg_lambda=0.1, scale_pos_weight=1, subsample=1,\n",
       "              tree_method='exact', validate_parameters=1, verbosity=None)"
      ]
     },
     "execution_count": 72,
     "metadata": {},
     "output_type": "execute_result"
    }
   ],
   "source": [
    "model=XGBClassifier(eval_metric=\"logloss\",max_depth=5,reg_lambda=xgb_param[\"reg_lambda\"]\n",
    "                    ,learning_rate=0.1,n_estimators=xgb_param[\"n_estimators\"])\n",
    "model.fit(X_train,y_train)\n"
   ]
  },
  {
   "cell_type": "code",
   "execution_count": 73,
   "metadata": {},
   "outputs": [
    {
     "name": "stdout",
     "output_type": "stream",
     "text": [
      "Train AUC: 0.8736070816282663\n"
     ]
    }
   ],
   "source": [
    "#AUC on training data\n",
    "pred=model.predict_proba(X_train)\n",
    "auc=roc_auc_score(y_train,pred[:, 1])\n",
    "print(\"Train AUC:\",auc)"
   ]
  },
  {
   "cell_type": "code",
   "execution_count": 74,
   "metadata": {},
   "outputs": [
    {
     "name": "stdout",
     "output_type": "stream",
     "text": [
      "CV AUC: 0.87362973327029\n"
     ]
    }
   ],
   "source": [
    "#AUC on cross validation data\n",
    "pred=model.predict_proba(X_test)\n",
    "auc=roc_auc_score(y_test,pred[:, 1])\n",
    "print(\"CV AUC:\",auc)"
   ]
  },
  {
   "cell_type": "markdown",
   "metadata": {},
   "source": [
    "#### 2. XGBClassifier on Top 50 Features"
   ]
  },
  {
   "cell_type": "code",
   "execution_count": 75,
   "metadata": {},
   "outputs": [
    {
     "data": {
      "text/plain": [
       "XGBClassifier(base_score=0.5, booster='gbtree', colsample_bylevel=1,\n",
       "              colsample_bynode=1, colsample_bytree=1, enable_categorical=False,\n",
       "              eval_metric='logloss', gamma=0, gpu_id=-1, importance_type=None,\n",
       "              interaction_constraints='', learning_rate=0.1, max_delta_step=0,\n",
       "              max_depth=5, min_child_weight=1, missing=nan,\n",
       "              monotone_constraints='()', n_estimators=100, n_jobs=12,\n",
       "              num_parallel_tree=1, predictor='auto', random_state=0,\n",
       "              reg_alpha=0, reg_lambda=0.1, scale_pos_weight=1, subsample=1,\n",
       "              tree_method='exact', validate_parameters=1, verbosity=None)"
      ]
     },
     "execution_count": 75,
     "metadata": {},
     "output_type": "execute_result"
    }
   ],
   "source": [
    "model=XGBClassifier(eval_metric=\"logloss\",max_depth=5,reg_lambda=xgb_param[\"reg_lambda\"]\n",
    "                    ,learning_rate=0.1,n_estimators=xgb_param[\"n_estimators\"])\n",
    "model.fit(X_train_imp,y_train)\n"
   ]
  },
  {
   "cell_type": "code",
   "execution_count": 76,
   "metadata": {},
   "outputs": [
    {
     "name": "stdout",
     "output_type": "stream",
     "text": [
      "Train AUC: 0.8730313223410271\n"
     ]
    }
   ],
   "source": [
    "#AUC on training data\n",
    "pred=model.predict_proba(X_train_imp)\n",
    "auc=roc_auc_score(y_train,pred[:, 1])\n",
    "print(\"Train AUC:\",auc)"
   ]
  },
  {
   "cell_type": "code",
   "execution_count": 77,
   "metadata": {},
   "outputs": [
    {
     "name": "stdout",
     "output_type": "stream",
     "text": [
      "CV AUC: 0.873803272448727\n"
     ]
    }
   ],
   "source": [
    "#AUC on cross validation data\n",
    "pred=model.predict_proba(X_test_imp)\n",
    "auc=roc_auc_score(y_test,pred[:, 1])\n",
    "print(\"CV AUC:\",auc)"
   ]
  },
  {
   "cell_type": "markdown",
   "metadata": {},
   "source": [
    "### StackingClassifier"
   ]
  },
  {
   "cell_type": "markdown",
   "metadata": {},
   "source": [
    "#### 1. StackingClassifier on all features"
   ]
  },
  {
   "cell_type": "code",
   "execution_count": 78,
   "metadata": {},
   "outputs": [
    {
     "data": {
      "text/plain": [
       "StackingClassifier(estimators=[('xgb',\n",
       "                                XGBClassifier(base_score=None, booster=None,\n",
       "                                              colsample_bylevel=None,\n",
       "                                              colsample_bynode=None,\n",
       "                                              colsample_bytree=None,\n",
       "                                              enable_categorical=False,\n",
       "                                              eval_metric='auc', gamma=None,\n",
       "                                              gpu_id=None, importance_type=None,\n",
       "                                              interaction_constraints=None,\n",
       "                                              learning_rate=0.1,\n",
       "                                              max_delta_step=None, max_depth=5,\n",
       "                                              min_child_weight=None,\n",
       "                                              missing=nan,\n",
       "                                              mo...\n",
       "                                              num_parallel_tree=None,\n",
       "                                              predictor=None, random_state=None,\n",
       "                                              reg_alpha=None, reg_lambda=0.1,\n",
       "                                              scale_pos_weight=None,\n",
       "                                              subsample=None, tree_method=None,\n",
       "                                              validate_parameters=None,\n",
       "                                              verbosity=None)),\n",
       "                               ('sgd',\n",
       "                                SGDClassifier(alpha=0.001,\n",
       "                                              class_weight='balanced',\n",
       "                                              loss='log')),\n",
       "                               ('rf',\n",
       "                                RandomForestClassifier(class_weight='balanced',\n",
       "                                                       max_depth=10,\n",
       "                                                       n_jobs=-1))],\n",
       "                   final_estimator=LogisticRegression())"
      ]
     },
     "execution_count": 78,
     "metadata": {},
     "output_type": "execute_result"
    }
   ],
   "source": [
    "# param={\"n_estimators\":[50,100],\"max_depth\":[5,10,15]}\n",
    "clf1=model=XGBClassifier(eval_metric=\"auc\",learning_rate=0.1,max_depth=5\n",
    "                   ,n_estimators=xgb_param[\"n_estimators\"],reg_lambda=xgb_param[\"reg_lambda\"])\n",
    "clf2=SGDClassifier(loss=\"log\",class_weight=\"balanced\",learning_rate=\"optimal\",alpha=sgd_param[\"alpha\"],penalty=sgd_param[\"penalty\"])\n",
    "\n",
    "clf3=RandomForestClassifier(max_depth=10\n",
    "                   ,n_estimators=100,class_weight=\"balanced\",n_jobs=-1)\n",
    "\n",
    "lr_clf=LogisticRegression()\n",
    "model=StackingClassifier(estimators=[(\"xgb\",clf1),(\"sgd\",clf2),(\"rf\",clf3)],final_estimator=lr_clf)\n",
    "model.fit(X_train,y_train)\n",
    "# clf=GridSearchCV(estimator=model,param_grid=param,scoring=\"roc_auc\",verbose=1)\n",
    "# clf.fit(X_train,y_train)\n"
   ]
  },
  {
   "cell_type": "code",
   "execution_count": 79,
   "metadata": {},
   "outputs": [
    {
     "name": "stdout",
     "output_type": "stream",
     "text": [
      "Train AUC: 0.8724306720416939\n"
     ]
    }
   ],
   "source": [
    "#AUC on training data\n",
    "pred=model.predict_proba(X_train)\n",
    "auc=roc_auc_score(y_train,pred[:, 1])\n",
    "print(\"Train AUC:\",auc)"
   ]
  },
  {
   "cell_type": "code",
   "execution_count": 80,
   "metadata": {},
   "outputs": [
    {
     "name": "stdout",
     "output_type": "stream",
     "text": [
      "CV AUC: 0.8729916565802007\n"
     ]
    }
   ],
   "source": [
    "#AUC on cross validation data\n",
    "pred=model.predict_proba(X_test)\n",
    "auc=roc_auc_score(y_test,pred[:, 1])\n",
    "print(\"CV AUC:\",auc)"
   ]
  },
  {
   "cell_type": "markdown",
   "metadata": {},
   "source": [
    "#### 2. StackingClassifier on Top 50 Features"
   ]
  },
  {
   "cell_type": "code",
   "execution_count": 81,
   "metadata": {},
   "outputs": [
    {
     "data": {
      "text/plain": [
       "StackingClassifier(estimators=[('xgb',\n",
       "                                XGBClassifier(base_score=None, booster=None,\n",
       "                                              colsample_bylevel=None,\n",
       "                                              colsample_bynode=None,\n",
       "                                              colsample_bytree=None,\n",
       "                                              enable_categorical=False,\n",
       "                                              eval_metric='auc', gamma=None,\n",
       "                                              gpu_id=None, importance_type=None,\n",
       "                                              interaction_constraints=None,\n",
       "                                              learning_rate=0.1,\n",
       "                                              max_delta_step=None, max_depth=5,\n",
       "                                              min_child_weight=None,\n",
       "                                              missing=nan,\n",
       "                                              mo...\n",
       "                                              num_parallel_tree=None,\n",
       "                                              predictor=None, random_state=None,\n",
       "                                              reg_alpha=None, reg_lambda=0.1,\n",
       "                                              scale_pos_weight=None,\n",
       "                                              subsample=None, tree_method=None,\n",
       "                                              validate_parameters=None,\n",
       "                                              verbosity=None)),\n",
       "                               ('sgd',\n",
       "                                SGDClassifier(alpha=0.001,\n",
       "                                              class_weight='balanced',\n",
       "                                              loss='log')),\n",
       "                               ('rf',\n",
       "                                RandomForestClassifier(class_weight='balanced',\n",
       "                                                       max_depth=10,\n",
       "                                                       n_jobs=-1))],\n",
       "                   final_estimator=LogisticRegression())"
      ]
     },
     "execution_count": 81,
     "metadata": {},
     "output_type": "execute_result"
    }
   ],
   "source": [
    "# param={\"n_estimators\":[50,100],\"max_depth\":[5,10,15]}\n",
    "clf1=model=XGBClassifier(eval_metric=\"auc\",learning_rate=0.1,max_depth=5\n",
    "                   ,n_estimators=xgb_param[\"n_estimators\"],reg_lambda=xgb_param[\"reg_lambda\"])\n",
    "clf2=SGDClassifier(loss=\"log\",class_weight=\"balanced\",learning_rate=\"optimal\",alpha=sgd_param[\"alpha\"],penalty=sgd_param[\"penalty\"])\n",
    "\n",
    "clf3=RandomForestClassifier(max_depth=10\n",
    "                   ,n_estimators=100,class_weight=\"balanced\",n_jobs=-1)\n",
    "\n",
    "lr_clf=LogisticRegression()\n",
    "model=StackingClassifier(estimators=[(\"xgb\",clf1),(\"sgd\",clf2),(\"rf\",clf3)],final_estimator=lr_clf)\n",
    "model.fit(X_train_imp,y_train)\n",
    "# clf=GridSearchCV(estimator=model,param_grid=param,scoring=\"roc_auc\",verbose=1)\n",
    "# clf.fit(X_train,y_train)\n"
   ]
  },
  {
   "cell_type": "code",
   "execution_count": 82,
   "metadata": {},
   "outputs": [
    {
     "name": "stdout",
     "output_type": "stream",
     "text": [
      "Train AUC: 0.8729316136176766\n"
     ]
    }
   ],
   "source": [
    "#AUC on training data\n",
    "pred=model.predict_proba(X_train_imp)\n",
    "auc=roc_auc_score(y_train,pred[:, 1])\n",
    "print(\"Train AUC:\",auc)"
   ]
  },
  {
   "cell_type": "code",
   "execution_count": 83,
   "metadata": {},
   "outputs": [
    {
     "name": "stdout",
     "output_type": "stream",
     "text": [
      "Train AUC: 0.8731234993405145\n"
     ]
    }
   ],
   "source": [
    "#AUC on cross validation data\n",
    "pred=model.predict_proba(X_test_imp)\n",
    "auc=roc_auc_score(y_test,pred[:, 1])\n",
    "print(\"Train AUC:\",auc)"
   ]
  },
  {
   "cell_type": "markdown",
   "metadata": {},
   "source": [
    "## Summary"
   ]
  },
  {
   "cell_type": "code",
   "execution_count": 97,
   "metadata": {},
   "outputs": [
    {
     "name": "stdout",
     "output_type": "stream",
     "text": [
      "+----+------------------------+-----------------+-------------+----------+\n",
      "|    | Model                  | Top_50 or All   |   Train auc |   CV auc |\n",
      "|----+------------------------+-----------------+-------------+----------|\n",
      "|  0 | RandomForestClassifier | All             |      0.8659 |   0.8664 |\n",
      "|  1 | RandomForestClassifier | Top_50          |      0.8708 |   0.8709 |\n",
      "|  2 | SGDClassifier          | All             |      0.8645 |   0.8674 |\n",
      "|  3 | SGDClassifier          | Top_50          |      0.8629 |   0.8659 |\n",
      "|  4 | XGBClassifier          | All             |      0.8736 |   0.8736 |\n",
      "|  5 | XGBClassifier          | Top_50          |      0.873  |   0.8738 |\n",
      "|  6 | StackingClassifier     | All             |      0.8724 |   0.8729 |\n",
      "|  7 | StackingClassifier     | Top_50          |      0.8729 |   0.8731 |\n",
      "+----+------------------------+-----------------+-------------+----------+\n"
     ]
    }
   ],
   "source": [
    "from tabulate import tabulate\n",
    "columns=[\"Model\",\"Top_50 or All\",\"Train auc\",\"CV auc\"]\n",
    "summary=[[\"RandomForestClassifier\",\"All\",0.8659,0.8664],\n",
    "         [\"RandomForestClassifier\",\"Top_50\",0.8708,0.8709],\n",
    "         [\"SGDClassifier\",\"All\",0.8645,0.8674],\n",
    "         [\"SGDClassifier\",\"Top_50\",0.8629,0.8659],\n",
    "         [\"XGBClassifier\",\"All\",0.8736,0.8736],\n",
    "         [\"XGBClassifier\",\"Top_50\",0.8730,0.8738],\n",
    "         [\"StackingClassifier\",\"All\",0.8724,0.8729],\n",
    "         [\"StackingClassifier\",\"Top_50\",0.8729,0.8731],\n",
    "        ]\n",
    "summary_df=pd.DataFrame(summary,columns=columns)\n",
    "#https://www.geeksforgeeks.org/display-the-pandas-dataframe-in-table-style/\n",
    "print(tabulate(summary_df,headers=\"keys\",tablefmt = 'psql'))"
   ]
  },
  {
   "cell_type": "markdown",
   "metadata": {},
   "source": [
    "## Conclution"
   ]
  },
  {
   "cell_type": "markdown",
   "metadata": {},
   "source": [
    "* Have trained many model where XGBClassifier works well \n",
    "* So I have chose XGBClassifier for predicting test data"
   ]
  },
  {
   "cell_type": "markdown",
   "metadata": {},
   "source": [
    "### Best Model"
   ]
  },
  {
   "cell_type": "code",
   "execution_count": 89,
   "metadata": {},
   "outputs": [
    {
     "data": {
      "text/plain": [
       "XGBClassifier(base_score=0.5, booster='gbtree', colsample_bylevel=1,\n",
       "              colsample_bynode=1, colsample_bytree=1, enable_categorical=False,\n",
       "              eval_metric='logloss', gamma=0, gpu_id=-1, importance_type=None,\n",
       "              interaction_constraints='', learning_rate=0.1, max_delta_step=0,\n",
       "              max_depth=5, min_child_weight=1, missing=nan,\n",
       "              monotone_constraints='()', n_estimators=100, n_jobs=12,\n",
       "              num_parallel_tree=1, predictor='auto', random_state=0,\n",
       "              reg_alpha=0, reg_lambda=0.1, scale_pos_weight=1, subsample=1,\n",
       "              tree_method='exact', validate_parameters=1, verbosity=None)"
      ]
     },
     "execution_count": 89,
     "metadata": {},
     "output_type": "execute_result"
    }
   ],
   "source": [
    "model=XGBClassifier(eval_metric=\"logloss\",max_depth=5,reg_lambda=xgb_param[\"reg_lambda\"]\n",
    "                    ,learning_rate=0.1,n_estimators=xgb_param[\"n_estimators\"])\n",
    "model.fit(X_train,y_train)\n"
   ]
  },
  {
   "cell_type": "code",
   "execution_count": 90,
   "metadata": {},
   "outputs": [
    {
     "name": "stdout",
     "output_type": "stream",
     "text": [
      "CV AUC: 0.87362973327029\n"
     ]
    }
   ],
   "source": [
    "pred=model.predict_proba(X_test)\n",
    "auc=roc_auc_score(y_test,pred[:, 1])\n",
    "print(\"CV AUC:\",auc)"
   ]
  },
  {
   "cell_type": "markdown",
   "metadata": {},
   "source": [
    "## Creating Submission File"
   ]
  },
  {
   "cell_type": "code",
   "execution_count": 91,
   "metadata": {},
   "outputs": [
    {
     "name": "stdout",
     "output_type": "stream",
     "text": [
      "Shape of test data:: (105312, 10)\n"
     ]
    }
   ],
   "source": [
    "#reading Test datasets\n",
    "test_data=pd.read_csv(\"data/test_mSzZ8RL.csv\")\n",
    "print(\"Shape of test data::\",test_data.shape)"
   ]
  },
  {
   "cell_type": "code",
   "execution_count": 92,
   "metadata": {},
   "outputs": [
    {
     "name": "stdout",
     "output_type": "stream",
     "text": [
      "data shape:  (105312, 189)\n"
     ]
    }
   ],
   "source": [
    "#Test data preprocessing,feature engineering and converting into vectors \n",
    "test_df=preprocess_and_encode_test_data(test_data)"
   ]
  },
  {
   "cell_type": "code",
   "execution_count": 93,
   "metadata": {},
   "outputs": [],
   "source": [
    "y_pred=model.predict_proba(test_df)[:,1]\n",
    "test_data[\"Is_Lead\"]=y_pred"
   ]
  },
  {
   "cell_type": "code",
   "execution_count": 94,
   "metadata": {},
   "outputs": [],
   "source": [
    "test_data=test_data[[\"ID\",\"Is_Lead\"]]"
   ]
  },
  {
   "cell_type": "code",
   "execution_count": 96,
   "metadata": {},
   "outputs": [],
   "source": [
    "test_data.to_csv(\"output/final_submission.csv\",index=False)"
   ]
  }
 ],
 "metadata": {
  "kernelspec": {
   "display_name": "Python 3 (ipykernel)",
   "language": "python",
   "name": "python3"
  },
  "language_info": {
   "codemirror_mode": {
    "name": "ipython",
    "version": 3
   },
   "file_extension": ".py",
   "mimetype": "text/x-python",
   "name": "python",
   "nbconvert_exporter": "python",
   "pygments_lexer": "ipython3",
   "version": "3.9.7"
  }
 },
 "nbformat": 4,
 "nbformat_minor": 4
}
